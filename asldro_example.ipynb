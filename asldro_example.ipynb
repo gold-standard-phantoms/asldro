{
 "cells": [
  {
   "cell_type": "markdown",
   "metadata": {},
   "source": [
    "# ASLDRO Example\n",
    "\n",
    "This is an example jupyter notebook that can run ASLDRO in your browser."
   ]
  },
  {
   "cell_type": "code",
   "execution_count": null,
   "metadata": {},
   "outputs": [],
   "source": [
    "from asldro.examples import run_full_pipeline\n",
    "from asldro.validators.user_parameter_input import get_example_input_params\n",
    "from pprint import pprint as pp\n",
    "import numpy as np\n",
    "from numpy.random import default_rng\n",
    "from tempfile import TemporaryDirectory\n",
    "import json\n",
    "import os\n",
    "from IPython.display import FileLink, HTML\n"
   ]
  },
  {
   "cell_type": "markdown",
   "metadata": {},
   "source": [
    "First, let's import the default user input parameters as a python dictionary."
   ]
  },
  {
   "cell_type": "code",
   "execution_count": null,
   "metadata": {},
   "outputs": [],
   "source": [
    "input_params = get_example_input_params() # import the default user parameters\n",
    "pp(input_params) #view them (nicely)"
   ]
  },
  {
   "cell_type": "markdown",
   "metadata": {},
   "source": [
    "Now, let's edit these default parameters so that we have something that mimics a \"real\" acquisition:\n",
    "* Increase the number of acquisitions\n",
    "* Add random motion\n",
    "* Change the number of slices\n",
    "\n",
    "See https://asldro.readthedocs.io/en/stable/usage/series-asl.html for more information on the ASL series parameters."
   ]
  },
  {
   "cell_type": "code",
   "execution_count": null,
   "metadata": {
    "tags": []
   },
   "outputs": [],
   "source": [
    "asl_params = input_params[\"image_series\"][0][\"series_parameters\"] # makes typing easier!\n",
    "# First let's define the m0, control and label order and number of scans\n",
    "number_control_label_pairs = 30\n",
    "number_m0 = 1\n",
    "number_volumes = number_control_label_pairs*2 + number_m0\n",
    "# build the asl_context string\n",
    "asl_params[\"asl_context\"] = \"m0scan\"*number_m0 + \" control label\"*number_control_label_pairs\n",
    "asl_params[\"echo_time\"] = [0.01] * number_volumes # 10ms TE for every volume\n",
    "asl_params[\"repetition_time\"] = [10.0] + [5.0]*number_control_label_pairs*2 # 10ms for the M0, 5ms for each control or label acquisition.\n",
    "\n",
    "# Now let's add some random motion\n",
    "rng = default_rng(seed=90210)\n",
    "# rotation with mean 0 and sd 0.1°\n",
    "asl_params[\"rot_x\"] = list(rng.normal(0, 0.1, number_volumes))\n",
    "asl_params[\"rot_y\"] = list(rng.normal(0, 0.1, number_volumes))\n",
    "asl_params[\"rot_z\"] = list(rng.normal(0, 0.1, number_volumes))\n",
    "# translation with mean 0 and sd 0.1mm\n",
    "asl_params[\"transl_x\"] = list(rng.normal(0, 0.1, number_volumes))\n",
    "asl_params[\"transl_y\"] = list(rng.normal(0, 0.1, number_volumes))\n",
    "asl_params[\"transl_z\"] = list(rng.normal(0, 0.1, number_volumes))\n",
    "\n",
    "# The input ground truth is at 1x1x1mm resolution and has dimensions [197, 233, 189]\n",
    "# Let's adjust the output resolution so we have something close to 4x4x4mm voxels\n",
    "asl_params[\"acq_matrix\"] = np.ceil([197/4, 233/4, 189/4]).astype(np.int32).tolist()\n",
    "#also change the ground truth image series to have the same acquisition resolution\n",
    "input_params[\"image_series\"][1][\"series_parameters\"][\"acq_matrix\"] = asl_params[\"acq_matrix\"]"
   ]
  },
  {
   "source": [
    "Let's run ASLDRO with these parameters:"
   ],
   "cell_type": "markdown",
   "metadata": {}
  },
  {
   "cell_type": "code",
   "execution_count": null,
   "metadata": {},
   "outputs": [],
   "source": [
    "output_directory = os.path.join(os.getcwd(), \"working\")\n",
    "if not os.path.exists(output_directory):\n",
    "    os.mkdir(output_directory)\n",
    "archive_fn = os.path.join(output_directory, \"dro_out.zip\")\n",
    "#run the full DRO pipeline, saving the results to archive_fn\n",
    "run_full_pipeline(input_params, archive_fn)\n",
    "\n",
    "#output the parameters to a json file inside the working directory\n",
    "parameters_filename = os.path.join(output_directory, \"dro_parameters.json\")\n",
    "with open(parameters_filename, \"w\") as json_file:\n",
    "    json.dump(input_params, json_file, indent=4)\n",
    "\n",
    "# display links to download the output and parameter files\n",
    "display(HTML('''\n",
    "    Results ready to download:\n",
    "    <a href=\"./working/dro_out.zip\" download=\"dro_out.zip\">Download DRO Output</a>\n",
    "    <br>\n",
    "    Parameters ready to download:\n",
    "    <a href=\"./working/dro_parameters.json\" download=\"dro_parameters.json\">Download DRO Parameters</a>\n",
    "    '''))\n",
    "\n"
   ]
  }
 ],
 "metadata": {
  "kernelspec": {
   "display_name": "Python 3",
   "language": "python",
   "name": "python3"
  },
  "language_info": {
   "codemirror_mode": {
    "name": "ipython",
    "version": 3
   },
   "file_extension": ".py",
   "mimetype": "text/x-python",
   "name": "python",
   "nbconvert_exporter": "python",
   "pygments_lexer": "ipython3",
   "version": "3.7.7-final"
  }
 },
 "nbformat": 4,
 "nbformat_minor": 4
}